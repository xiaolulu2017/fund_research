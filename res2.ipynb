{
 "cells": [
  {
   "cell_type": "code",
   "execution_count": 1,
   "metadata": {},
   "outputs": [],
   "source": [
    "import pandas as pd\n",
    "import os"
   ]
  },
  {
   "cell_type": "code",
   "execution_count": 2,
   "metadata": {},
   "outputs": [],
   "source": [
    "def load_nav(code):\n",
    "    try:\n",
    "        df = pd.read_pickle('data\\%s.pkl'%code, compression='zip')\n",
    "        df = df[['nav_date', 'adj_nav']]\n",
    "        df['nav_date'] = pd.to_datetime(df['nav_date'])\n",
    "        df.set_index('nav_date', inplace=True)\n",
    "        df.sort_index(inplace=True)\n",
    "        df.drop_duplicates(inplace=True)\n",
    "        return df\n",
    "    except Exception as e:\n",
    "        print(e)\n",
    "        return None"
   ]
  },
  {
   "cell_type": "code",
   "execution_count": 3,
   "metadata": {},
   "outputs": [],
   "source": [
    "funds=pd.read_pickle('data\\\\funds.pkl')\n",
    "funds300=pd.read_pickle('data\\\\funds300.pkl')\n",
    "funds500=pd.read_pickle('data\\\\funds500.pkl')\n",
    "funds1000=pd.read_pickle('data\\\\funds1000.pkl')\n",
    "idx300=pd.read_pickle('data\\\\idx300.pkl')\n",
    "idx500=pd.read_pickle('data\\\\idx500.pkl')\n",
    "idx1000=pd.read_pickle('data\\\\idx1000.pkl')"
   ]
  },
  {
   "cell_type": "code",
   "execution_count": 4,
   "metadata": {},
   "outputs": [],
   "source": [
    "def fund_prem_performance(funds, idx):\n",
    "    idx_close = idx[['trade_date', 'close']].copy()\n",
    "    idx_close['trade_date'] = pd.to_datetime(idx['trade_date'])\n",
    "    idx_close.set_index('trade_date', inplace=True)\n",
    "    idx_close.sort_index(inplace=True)\n",
    "    idx_close.drop_duplicates(inplace=True)\n",
    "    idx_close.columns = ['benchmark']\n",
    "    nav_panel = None\n",
    "    i=0\n",
    "    for code in funds['ts_code']:\n",
    "        nav = load_nav(code)\n",
    "        if type(nav) is pd.DataFrame:\n",
    "            i+=1\n",
    "            # print(i, code, nav.shape)\n",
    "            nav.columns = [code]\n",
    "            if type(nav_panel) is type(None):\n",
    "                nav_panel = nav\n",
    "            else:\n",
    "                nav_panel = nav_panel.merge(nav, left_index=True, right_index=True, how='outer')\n",
    "            # print(nav_panel.shape)\n",
    "    nav_panel.ffill(inplace=True)\n",
    "    nav_panel = nav_panel.merge(idx_close, left_index=True, right_index=True, how='outer')\n",
    "    nav_panel.ffill(inplace=True)\n",
    "    ret_panel = nav_panel.pct_change()\n",
    "    prem_panel = ret_panel.copy()\n",
    "    for col in prem_panel.columns:\n",
    "        prem_panel[col] = prem_panel[col] -  prem_panel['benchmark']\n",
    "    prem_panel.drop('benchmark', axis=1, inplace=True)\n",
    "    prem_ir = prem_panel.mean() / prem_panel.std()\n",
    "    prem_cnt = prem_panel.count()\n",
    "    prem_act_ret = (prem_panel+1).cumprod().tail(1) ** (245 / prem_cnt) - 1\n",
    "    prem_act_ret = prem_act_ret.transpose()\n",
    "    prem_act_ret.columns = ['act_ret']\n",
    "    prem_cnt.name = 'count'\n",
    "    prem_stat = prem_act_ret.merge(prem_cnt, left_index=True, right_index=True)\n",
    "    prem_ir.name = 'IR'\n",
    "    prem_stat = prem_stat.merge(prem_ir, left_index=True, right_index=True)\n",
    "    prem_stat = prem_stat.merge(funds[['ts_code','name']], left_index=True, right_on='ts_code')\n",
    "    return prem_stat, prem_panel\n"
   ]
  },
  {
   "cell_type": "code",
   "execution_count": 18,
   "metadata": {},
   "outputs": [],
   "source": [
    "stat, panel = fund_prem_performance(funds300, idx300)"
   ]
  },
  {
   "cell_type": "code",
   "execution_count": 19,
   "metadata": {},
   "outputs": [
    {
     "data": {
      "text/html": [
       "<div>\n",
       "<style scoped>\n",
       "    .dataframe tbody tr th:only-of-type {\n",
       "        vertical-align: middle;\n",
       "    }\n",
       "\n",
       "    .dataframe tbody tr th {\n",
       "        vertical-align: top;\n",
       "    }\n",
       "\n",
       "    .dataframe thead th {\n",
       "        text-align: right;\n",
       "    }\n",
       "</style>\n",
       "<table border=\"1\" class=\"dataframe\">\n",
       "  <thead>\n",
       "    <tr style=\"text-align: right;\">\n",
       "      <th></th>\n",
       "      <th>act_ret</th>\n",
       "      <th>count</th>\n",
       "      <th>IR</th>\n",
       "      <th>ts_code</th>\n",
       "      <th>name</th>\n",
       "    </tr>\n",
       "  </thead>\n",
       "  <tbody>\n",
       "    <tr>\n",
       "      <th>9914</th>\n",
       "      <td>0.119306</td>\n",
       "      <td>1093</td>\n",
       "      <td>0.062648</td>\n",
       "      <td>004788.OF</td>\n",
       "      <td>富荣沪深300增强A</td>\n",
       "    </tr>\n",
       "    <tr>\n",
       "      <th>9917</th>\n",
       "      <td>0.117565</td>\n",
       "      <td>1093</td>\n",
       "      <td>0.061097</td>\n",
       "      <td>004789.OF</td>\n",
       "      <td>富荣沪深300增强C</td>\n",
       "    </tr>\n",
       "    <tr>\n",
       "      <th>8455</th>\n",
       "      <td>0.090797</td>\n",
       "      <td>786</td>\n",
       "      <td>0.070759</td>\n",
       "      <td>007448.OF</td>\n",
       "      <td>长信沪深300指数增强C</td>\n",
       "    </tr>\n",
       "    <tr>\n",
       "      <th>10804</th>\n",
       "      <td>0.089827</td>\n",
       "      <td>1318</td>\n",
       "      <td>0.071263</td>\n",
       "      <td>673100.OF</td>\n",
       "      <td>西部利得沪深300指数增强A</td>\n",
       "    </tr>\n",
       "    <tr>\n",
       "      <th>7010</th>\n",
       "      <td>0.086196</td>\n",
       "      <td>570</td>\n",
       "      <td>0.090525</td>\n",
       "      <td>008238.OF</td>\n",
       "      <td>中泰沪深300指数增强A</td>\n",
       "    </tr>\n",
       "    <tr>\n",
       "      <th>...</th>\n",
       "      <td>...</td>\n",
       "      <td>...</td>\n",
       "      <td>...</td>\n",
       "      <td>...</td>\n",
       "      <td>...</td>\n",
       "    </tr>\n",
       "    <tr>\n",
       "      <th>13272</th>\n",
       "      <td>-0.051045</td>\n",
       "      <td>1844</td>\n",
       "      <td>-0.015203</td>\n",
       "      <td>000950.OF</td>\n",
       "      <td>易方达沪深300非银ETF联接A</td>\n",
       "    </tr>\n",
       "    <tr>\n",
       "      <th>13841</th>\n",
       "      <td>-0.055695</td>\n",
       "      <td>2204</td>\n",
       "      <td>-0.019636</td>\n",
       "      <td>161718.OF</td>\n",
       "      <td>招商沪深300高贝塔</td>\n",
       "    </tr>\n",
       "    <tr>\n",
       "      <th>13343</th>\n",
       "      <td>-0.056033</td>\n",
       "      <td>1882</td>\n",
       "      <td>-0.008732</td>\n",
       "      <td>161721.OF</td>\n",
       "      <td>招商沪深300地产A</td>\n",
       "    </tr>\n",
       "    <tr>\n",
       "      <th>12354</th>\n",
       "      <td>-0.059122</td>\n",
       "      <td>1444</td>\n",
       "      <td>-0.018398</td>\n",
       "      <td>960022.OF</td>\n",
       "      <td>博时裕富沪深300R</td>\n",
       "    </tr>\n",
       "    <tr>\n",
       "      <th>8115</th>\n",
       "      <td>-0.108619</td>\n",
       "      <td>717</td>\n",
       "      <td>-0.044126</td>\n",
       "      <td>007882.OF</td>\n",
       "      <td>易方达沪深300非银ETF联接C</td>\n",
       "    </tr>\n",
       "  </tbody>\n",
       "</table>\n",
       "<p>132 rows × 5 columns</p>\n",
       "</div>"
      ],
      "text/plain": [
       "        act_ret  count        IR    ts_code              name\n",
       "9914   0.119306   1093  0.062648  004788.OF        富荣沪深300增强A\n",
       "9917   0.117565   1093  0.061097  004789.OF        富荣沪深300增强C\n",
       "8455   0.090797    786  0.070759  007448.OF      长信沪深300指数增强C\n",
       "10804  0.089827   1318  0.071263  673100.OF    西部利得沪深300指数增强A\n",
       "7010   0.086196    570  0.090525  008238.OF      中泰沪深300指数增强A\n",
       "...         ...    ...       ...        ...               ...\n",
       "13272 -0.051045   1844 -0.015203  000950.OF  易方达沪深300非银ETF联接A\n",
       "13841 -0.055695   2204 -0.019636  161718.OF        招商沪深300高贝塔\n",
       "13343 -0.056033   1882 -0.008732  161721.OF        招商沪深300地产A\n",
       "12354 -0.059122   1444 -0.018398  960022.OF        博时裕富沪深300R\n",
       "8115  -0.108619    717 -0.044126  007882.OF  易方达沪深300非银ETF联接C\n",
       "\n",
       "[132 rows x 5 columns]"
      ]
     },
     "execution_count": 19,
     "metadata": {},
     "output_type": "execute_result"
    }
   ],
   "source": [
    "stat[stat['count']>500].sort_values('act_ret', ascending=False)"
   ]
  },
  {
   "cell_type": "code",
   "execution_count": 20,
   "metadata": {},
   "outputs": [
    {
     "data": {
      "text/html": [
       "<div>\n",
       "<style scoped>\n",
       "    .dataframe tbody tr th:only-of-type {\n",
       "        vertical-align: middle;\n",
       "    }\n",
       "\n",
       "    .dataframe tbody tr th {\n",
       "        vertical-align: top;\n",
       "    }\n",
       "\n",
       "    .dataframe thead th {\n",
       "        text-align: right;\n",
       "    }\n",
       "</style>\n",
       "<table border=\"1\" class=\"dataframe\">\n",
       "  <thead>\n",
       "    <tr style=\"text-align: right;\">\n",
       "      <th></th>\n",
       "      <th>act_ret</th>\n",
       "      <th>count</th>\n",
       "      <th>IR</th>\n",
       "      <th>ts_code</th>\n",
       "      <th>name</th>\n",
       "    </tr>\n",
       "  </thead>\n",
       "  <tbody>\n",
       "    <tr>\n",
       "      <th>7010</th>\n",
       "      <td>0.086196</td>\n",
       "      <td>570</td>\n",
       "      <td>0.090525</td>\n",
       "      <td>008238.OF</td>\n",
       "      <td>中泰沪深300指数增强A</td>\n",
       "    </tr>\n",
       "    <tr>\n",
       "      <th>8426</th>\n",
       "      <td>0.079033</td>\n",
       "      <td>780</td>\n",
       "      <td>0.080632</td>\n",
       "      <td>007404.OF</td>\n",
       "      <td>华宝沪深300指数增强C</td>\n",
       "    </tr>\n",
       "    <tr>\n",
       "      <th>8070</th>\n",
       "      <td>0.082904</td>\n",
       "      <td>711</td>\n",
       "      <td>0.080355</td>\n",
       "      <td>007276.OF</td>\n",
       "      <td>银河沪深300指数增强C</td>\n",
       "    </tr>\n",
       "    <tr>\n",
       "      <th>7011</th>\n",
       "      <td>0.082467</td>\n",
       "      <td>570</td>\n",
       "      <td>0.080202</td>\n",
       "      <td>008239.OF</td>\n",
       "      <td>中泰沪深300指数增强C</td>\n",
       "    </tr>\n",
       "    <tr>\n",
       "      <th>8961</th>\n",
       "      <td>0.081439</td>\n",
       "      <td>876</td>\n",
       "      <td>0.071298</td>\n",
       "      <td>673101.OF</td>\n",
       "      <td>西部利得沪深300指数增强C</td>\n",
       "    </tr>\n",
       "    <tr>\n",
       "      <th>...</th>\n",
       "      <td>...</td>\n",
       "      <td>...</td>\n",
       "      <td>...</td>\n",
       "      <td>...</td>\n",
       "      <td>...</td>\n",
       "    </tr>\n",
       "    <tr>\n",
       "      <th>13272</th>\n",
       "      <td>-0.051045</td>\n",
       "      <td>1844</td>\n",
       "      <td>-0.015203</td>\n",
       "      <td>000950.OF</td>\n",
       "      <td>易方达沪深300非银ETF联接A</td>\n",
       "    </tr>\n",
       "    <tr>\n",
       "      <th>12354</th>\n",
       "      <td>-0.059122</td>\n",
       "      <td>1444</td>\n",
       "      <td>-0.018398</td>\n",
       "      <td>960022.OF</td>\n",
       "      <td>博时裕富沪深300R</td>\n",
       "    </tr>\n",
       "    <tr>\n",
       "      <th>8151</th>\n",
       "      <td>-0.045635</td>\n",
       "      <td>726</td>\n",
       "      <td>-0.018498</td>\n",
       "      <td>007800.OF</td>\n",
       "      <td>申万菱信沪深300价值C</td>\n",
       "    </tr>\n",
       "    <tr>\n",
       "      <th>13841</th>\n",
       "      <td>-0.055695</td>\n",
       "      <td>2204</td>\n",
       "      <td>-0.019636</td>\n",
       "      <td>161718.OF</td>\n",
       "      <td>招商沪深300高贝塔</td>\n",
       "    </tr>\n",
       "    <tr>\n",
       "      <th>8115</th>\n",
       "      <td>-0.108619</td>\n",
       "      <td>717</td>\n",
       "      <td>-0.044126</td>\n",
       "      <td>007882.OF</td>\n",
       "      <td>易方达沪深300非银ETF联接C</td>\n",
       "    </tr>\n",
       "  </tbody>\n",
       "</table>\n",
       "<p>132 rows × 5 columns</p>\n",
       "</div>"
      ],
      "text/plain": [
       "        act_ret  count        IR    ts_code              name\n",
       "7010   0.086196    570  0.090525  008238.OF      中泰沪深300指数增强A\n",
       "8426   0.079033    780  0.080632  007404.OF      华宝沪深300指数增强C\n",
       "8070   0.082904    711  0.080355  007276.OF      银河沪深300指数增强C\n",
       "7011   0.082467    570  0.080202  008239.OF      中泰沪深300指数增强C\n",
       "8961   0.081439    876  0.071298  673101.OF    西部利得沪深300指数增强C\n",
       "...         ...    ...       ...        ...               ...\n",
       "13272 -0.051045   1844 -0.015203  000950.OF  易方达沪深300非银ETF联接A\n",
       "12354 -0.059122   1444 -0.018398  960022.OF        博时裕富沪深300R\n",
       "8151  -0.045635    726 -0.018498  007800.OF      申万菱信沪深300价值C\n",
       "13841 -0.055695   2204 -0.019636  161718.OF        招商沪深300高贝塔\n",
       "8115  -0.108619    717 -0.044126  007882.OF  易方达沪深300非银ETF联接C\n",
       "\n",
       "[132 rows x 5 columns]"
      ]
     },
     "execution_count": 20,
     "metadata": {},
     "output_type": "execute_result"
    }
   ],
   "source": [
    "stat[stat['count']>500].sort_values('IR', ascending=False)"
   ]
  },
  {
   "cell_type": "code",
   "execution_count": 7,
   "metadata": {},
   "outputs": [
    {
     "data": {
      "text/plain": [
       "<AxesSubplot:>"
      ]
     },
     "execution_count": 7,
     "metadata": {},
     "output_type": "execute_result"
    },
    {
     "data": {
      "image/png": "[encoded data removed]",
      "text/plain": [
       "<Figure size 432x288 with 1 Axes>"
      ]
     },
     "metadata": {
      "needs_background": "light"
     },
     "output_type": "display_data"
    }
   ],
   "source": [
    "(panel['008238.OF']+1).cumprod().plot()"
   ]
  },
  {
   "cell_type": "code",
   "execution_count": 8,
   "metadata": {},
   "outputs": [
    {
     "data": {
      "text/plain": [
       "<AxesSubplot:>"
      ]
     },
     "execution_count": 8,
     "metadata": {},
     "output_type": "execute_result"
    },
    {
     "data": {
      "image/png": "[encoded data removed]",
      "text/plain": [
       "<Figure size 432x288 with 1 Axes>"
      ]
     },
     "metadata": {
      "needs_background": "light"
     },
     "output_type": "display_data"
    }
   ],
   "source": [
    "(panel['004789.OF']+1).cumprod().plot()"
   ]
  },
  {
   "cell_type": "code",
   "execution_count": 9,
   "metadata": {},
   "outputs": [],
   "source": [
    "stat, panel = fund_prem_performance(funds500, idx500)"
   ]
  },
  {
   "cell_type": "code",
   "execution_count": 11,
   "metadata": {},
   "outputs": [
    {
     "data": {
      "text/html": [
       "<div>\n",
       "<style scoped>\n",
       "    .dataframe tbody tr th:only-of-type {\n",
       "        vertical-align: middle;\n",
       "    }\n",
       "\n",
       "    .dataframe tbody tr th {\n",
       "        vertical-align: top;\n",
       "    }\n",
       "\n",
       "    .dataframe thead th {\n",
       "        text-align: right;\n",
       "    }\n",
       "</style>\n",
       "<table border=\"1\" class=\"dataframe\">\n",
       "  <thead>\n",
       "    <tr style=\"text-align: right;\">\n",
       "      <th></th>\n",
       "      <th>act_ret</th>\n",
       "      <th>count</th>\n",
       "      <th>IR</th>\n",
       "      <th>ts_code</th>\n",
       "      <th>name</th>\n",
       "    </tr>\n",
       "  </thead>\n",
       "  <tbody>\n",
       "    <tr>\n",
       "      <th>6954</th>\n",
       "      <td>0.177640</td>\n",
       "      <td>565</td>\n",
       "      <td>0.132714</td>\n",
       "      <td>009300.OF</td>\n",
       "      <td>西部利得中证500指数增强C</td>\n",
       "    </tr>\n",
       "    <tr>\n",
       "      <th>9472</th>\n",
       "      <td>0.143848</td>\n",
       "      <td>980</td>\n",
       "      <td>0.092505</td>\n",
       "      <td>005994.OF</td>\n",
       "      <td>国投瑞银中证500量化增强A</td>\n",
       "    </tr>\n",
       "    <tr>\n",
       "      <th>7041</th>\n",
       "      <td>0.141702</td>\n",
       "      <td>577</td>\n",
       "      <td>0.109602</td>\n",
       "      <td>007994.OF</td>\n",
       "      <td>华夏中证500指数增强A</td>\n",
       "    </tr>\n",
       "    <tr>\n",
       "      <th>7065</th>\n",
       "      <td>0.137316</td>\n",
       "      <td>577</td>\n",
       "      <td>0.105029</td>\n",
       "      <td>007995.OF</td>\n",
       "      <td>华夏中证500指数增强C</td>\n",
       "    </tr>\n",
       "    <tr>\n",
       "      <th>8729</th>\n",
       "      <td>0.135339</td>\n",
       "      <td>830</td>\n",
       "      <td>0.096824</td>\n",
       "      <td>007089.OF</td>\n",
       "      <td>国投瑞银中证500量化增强C</td>\n",
       "    </tr>\n",
       "    <tr>\n",
       "      <th>...</th>\n",
       "      <td>...</td>\n",
       "      <td>...</td>\n",
       "      <td>...</td>\n",
       "      <td>...</td>\n",
       "      <td>...</td>\n",
       "    </tr>\n",
       "    <tr>\n",
       "      <th>13079</th>\n",
       "      <td>-0.037243</td>\n",
       "      <td>1779</td>\n",
       "      <td>-0.005381</td>\n",
       "      <td>001052.OF</td>\n",
       "      <td>华夏中证500ETF联接A</td>\n",
       "    </tr>\n",
       "    <tr>\n",
       "      <th>8944</th>\n",
       "      <td>-0.037729</td>\n",
       "      <td>867</td>\n",
       "      <td>-0.020483</td>\n",
       "      <td>006129.OF</td>\n",
       "      <td>华安中证500低波动ETF联接A</td>\n",
       "    </tr>\n",
       "    <tr>\n",
       "      <th>7504</th>\n",
       "      <td>-0.038893</td>\n",
       "      <td>2619</td>\n",
       "      <td>-0.004425</td>\n",
       "      <td>590007.OF</td>\n",
       "      <td>中邮中证500指数增强A</td>\n",
       "    </tr>\n",
       "    <tr>\n",
       "      <th>8945</th>\n",
       "      <td>-0.048978</td>\n",
       "      <td>867</td>\n",
       "      <td>-0.028375</td>\n",
       "      <td>006130.OF</td>\n",
       "      <td>华安中证500低波动ETF联接C</td>\n",
       "    </tr>\n",
       "    <tr>\n",
       "      <th>7287</th>\n",
       "      <td>-0.056847</td>\n",
       "      <td>2575</td>\n",
       "      <td>-0.022142</td>\n",
       "      <td>164809.OF</td>\n",
       "      <td>工银瑞信中证500ETF联接A</td>\n",
       "    </tr>\n",
       "  </tbody>\n",
       "</table>\n",
       "<p>103 rows × 5 columns</p>\n",
       "</div>"
      ],
      "text/plain": [
       "        act_ret  count        IR    ts_code              name\n",
       "6954   0.177640    565  0.132714  009300.OF    西部利得中证500指数增强C\n",
       "9472   0.143848    980  0.092505  005994.OF    国投瑞银中证500量化增强A\n",
       "7041   0.141702    577  0.109602  007994.OF      华夏中证500指数增强A\n",
       "7065   0.137316    577  0.105029  007995.OF      华夏中证500指数增强C\n",
       "8729   0.135339    830  0.096824  007089.OF    国投瑞银中证500量化增强C\n",
       "...         ...    ...       ...        ...               ...\n",
       "13079 -0.037243   1779 -0.005381  001052.OF     华夏中证500ETF联接A\n",
       "8944  -0.037729    867 -0.020483  006129.OF  华安中证500低波动ETF联接A\n",
       "7504  -0.038893   2619 -0.004425  590007.OF      中邮中证500指数增强A\n",
       "8945  -0.048978    867 -0.028375  006130.OF  华安中证500低波动ETF联接C\n",
       "7287  -0.056847   2575 -0.022142  164809.OF   工银瑞信中证500ETF联接A\n",
       "\n",
       "[103 rows x 5 columns]"
      ]
     },
     "execution_count": 11,
     "metadata": {},
     "output_type": "execute_result"
    }
   ],
   "source": [
    "stat[stat['count']>500].sort_values('act_ret', ascending=False)"
   ]
  },
  {
   "cell_type": "code",
   "execution_count": 12,
   "metadata": {},
   "outputs": [
    {
     "data": {
      "text/plain": [
       "<AxesSubplot:>"
      ]
     },
     "execution_count": 12,
     "metadata": {},
     "output_type": "execute_result"
    },
    {
     "data": {
      "image/png": "[encoded data removed]",
      "text/plain": [
       "<Figure size 432x288 with 1 Axes>"
      ]
     },
     "metadata": {
      "needs_background": "light"
     },
     "output_type": "display_data"
    }
   ],
   "source": [
    "(panel['007994.OF']+1).cumprod().plot()"
   ]
  },
  {
   "cell_type": "code",
   "execution_count": 13,
   "metadata": {},
   "outputs": [],
   "source": [
    "stat, panel = fund_prem_performance(funds1000, idx1000)"
   ]
  },
  {
   "cell_type": "code",
   "execution_count": 14,
   "metadata": {},
   "outputs": [
    {
     "data": {
      "text/html": [
       "<div>\n",
       "<style scoped>\n",
       "    .dataframe tbody tr th:only-of-type {\n",
       "        vertical-align: middle;\n",
       "    }\n",
       "\n",
       "    .dataframe tbody tr th {\n",
       "        vertical-align: top;\n",
       "    }\n",
       "\n",
       "    .dataframe thead th {\n",
       "        text-align: right;\n",
       "    }\n",
       "</style>\n",
       "<table border=\"1\" class=\"dataframe\">\n",
       "  <thead>\n",
       "    <tr style=\"text-align: right;\">\n",
       "      <th></th>\n",
       "      <th>act_ret</th>\n",
       "      <th>count</th>\n",
       "      <th>IR</th>\n",
       "      <th>ts_code</th>\n",
       "      <th>name</th>\n",
       "    </tr>\n",
       "  </thead>\n",
       "  <tbody>\n",
       "    <tr>\n",
       "      <th>9994</th>\n",
       "      <td>0.172730</td>\n",
       "      <td>1101</td>\n",
       "      <td>0.082430</td>\n",
       "      <td>005313.OF</td>\n",
       "      <td>万家中证1000指数增强A</td>\n",
       "    </tr>\n",
       "    <tr>\n",
       "      <th>9995</th>\n",
       "      <td>0.162120</td>\n",
       "      <td>1101</td>\n",
       "      <td>0.076869</td>\n",
       "      <td>005314.OF</td>\n",
       "      <td>万家中证1000指数增强C</td>\n",
       "    </tr>\n",
       "    <tr>\n",
       "      <th>11194</th>\n",
       "      <td>0.127677</td>\n",
       "      <td>1375</td>\n",
       "      <td>0.078103</td>\n",
       "      <td>003646.OF</td>\n",
       "      <td>创金合信中证1000增强A</td>\n",
       "    </tr>\n",
       "    <tr>\n",
       "      <th>9114</th>\n",
       "      <td>0.125199</td>\n",
       "      <td>902</td>\n",
       "      <td>0.086851</td>\n",
       "      <td>006165.OF</td>\n",
       "      <td>建信中证1000指数增强A</td>\n",
       "    </tr>\n",
       "    <tr>\n",
       "      <th>11195</th>\n",
       "      <td>0.123682</td>\n",
       "      <td>1375</td>\n",
       "      <td>0.073363</td>\n",
       "      <td>003647.OF</td>\n",
       "      <td>创金合信中证1000增强C</td>\n",
       "    </tr>\n",
       "    <tr>\n",
       "      <th>9128</th>\n",
       "      <td>0.122370</td>\n",
       "      <td>902</td>\n",
       "      <td>0.095162</td>\n",
       "      <td>006166.OF</td>\n",
       "      <td>建信中证1000指数增强C</td>\n",
       "    </tr>\n",
       "    <tr>\n",
       "      <th>10896</th>\n",
       "      <td>0.114866</td>\n",
       "      <td>1329</td>\n",
       "      <td>0.080093</td>\n",
       "      <td>004194.OF</td>\n",
       "      <td>招商中证1000指数增强A</td>\n",
       "    </tr>\n",
       "    <tr>\n",
       "      <th>10907</th>\n",
       "      <td>0.110616</td>\n",
       "      <td>1329</td>\n",
       "      <td>0.070244</td>\n",
       "      <td>004195.OF</td>\n",
       "      <td>招商中证1000指数增强C</td>\n",
       "    </tr>\n",
       "    <tr>\n",
       "      <th>9210</th>\n",
       "      <td>-0.019909</td>\n",
       "      <td>917</td>\n",
       "      <td>-0.014215</td>\n",
       "      <td>006486.OF</td>\n",
       "      <td>广发中证1000A</td>\n",
       "    </tr>\n",
       "    <tr>\n",
       "      <th>9208</th>\n",
       "      <td>-0.022272</td>\n",
       "      <td>917</td>\n",
       "      <td>-0.015268</td>\n",
       "      <td>006487.OF</td>\n",
       "      <td>广发中证1000C</td>\n",
       "    </tr>\n",
       "    <tr>\n",
       "      <th>12955</th>\n",
       "      <td>-0.024308</td>\n",
       "      <td>1755</td>\n",
       "      <td>-0.011566</td>\n",
       "      <td>162413.OF</td>\n",
       "      <td>华宝中证1000A</td>\n",
       "    </tr>\n",
       "  </tbody>\n",
       "</table>\n",
       "</div>"
      ],
      "text/plain": [
       "        act_ret  count        IR    ts_code           name\n",
       "9994   0.172730   1101  0.082430  005313.OF  万家中证1000指数增强A\n",
       "9995   0.162120   1101  0.076869  005314.OF  万家中证1000指数增强C\n",
       "11194  0.127677   1375  0.078103  003646.OF  创金合信中证1000增强A\n",
       "9114   0.125199    902  0.086851  006165.OF  建信中证1000指数增强A\n",
       "11195  0.123682   1375  0.073363  003647.OF  创金合信中证1000增强C\n",
       "9128   0.122370    902  0.095162  006166.OF  建信中证1000指数增强C\n",
       "10896  0.114866   1329  0.080093  004194.OF  招商中证1000指数增强A\n",
       "10907  0.110616   1329  0.070244  004195.OF  招商中证1000指数增强C\n",
       "9210  -0.019909    917 -0.014215  006486.OF      广发中证1000A\n",
       "9208  -0.022272    917 -0.015268  006487.OF      广发中证1000C\n",
       "12955 -0.024308   1755 -0.011566  162413.OF      华宝中证1000A"
      ]
     },
     "execution_count": 14,
     "metadata": {},
     "output_type": "execute_result"
    }
   ],
   "source": [
    "stat[stat['count']>500].sort_values('act_ret', ascending=False)"
   ]
  },
  {
   "cell_type": "code",
   "execution_count": 15,
   "metadata": {},
   "outputs": [
    {
     "data": {
      "text/plain": [
       "<AxesSubplot:>"
      ]
     },
     "execution_count": 15,
     "metadata": {},
     "output_type": "execute_result"
    },
    {
     "data": {
      "image/png": "[encoded data removed]",
      "text/plain": [
       "<Figure size 432x288 with 1 Axes>"
      ]
     },
     "metadata": {
      "needs_background": "light"
     },
     "output_type": "display_data"
    }
   ],
   "source": [
    "(panel['006166.OF']+1).cumprod().plot()"
   ]
  },
  {
   "cell_type": "code",
   "execution_count": 16,
   "metadata": {},
   "outputs": [
    {
     "data": {
      "text/plain": [
       "<AxesSubplot:>"
      ]
     },
     "execution_count": 16,
     "metadata": {},
     "output_type": "execute_result"
    },
    {
     "data": {
      "image/png": "[encoded data removed]",
      "text/plain": [
       "<Figure size 432x288 with 1 Axes>"
      ]
     },
     "metadata": {
      "needs_background": "light"
     },
     "output_type": "display_data"
    }
   ],
   "source": [
    "(panel['005314.OF']+1).cumprod().plot()"
   ]
  },
  {
   "cell_type": "code",
   "execution_count": null,
   "metadata": {},
   "outputs": [],
   "source": []
  }
 ],
 "metadata": {
  "kernelspec": {
   "display_name": "Python 3.8.10 64-bit",
   "language": "python",
   "name": "python3"
  },
  "language_info": {
   "codemirror_mode": {
    "name": "ipython",
    "version": 3
   },
   "file_extension": ".py",
   "mimetype": "text/x-python",
   "name": "python",
   "nbconvert_exporter": "python",
   "pygments_lexer": "ipython3",
   "version": "3.8.10"
  },
  "orig_nbformat": 4,
  "vscode": {
   "interpreter": {
    "hash": "1c442f56f513d946697b54b9a37b89914a7453601d4cdab64d33f95287da7f98"
   }
  }
 },
 "nbformat": 4,
 "nbformat_minor": 2
}
